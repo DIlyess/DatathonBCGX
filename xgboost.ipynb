{
 "cells": [
  {
   "cell_type": "code",
   "execution_count": 1,
   "metadata": {},
   "outputs": [
    {
     "name": "stdout",
     "output_type": "stream",
     "text": [
      "Defaulting to user installation because normal site-packages is not writeable\n",
      "Requirement already satisfied: polars in /Users/titouan/Library/Python/3.8/lib/python/site-packages (0.19.19)\n",
      "Defaulting to user installation because normal site-packages is not writeable\n",
      "Requirement already satisfied: lets-plot in /Users/titouan/Library/Python/3.8/lib/python/site-packages (4.1.0)\n",
      "Requirement already satisfied: pypng in /Users/titouan/Library/Python/3.8/lib/python/site-packages (from lets-plot) (0.20220715.0)\n",
      "Requirement already satisfied: palettable in /Users/titouan/Library/Python/3.8/lib/python/site-packages (from lets-plot) (3.3.3)\n",
      "Defaulting to user installation because normal site-packages is not writeable\n",
      "Requirement already satisfied: xgboost in /Users/titouan/Library/Python/3.8/lib/python/site-packages (2.0.2)\n",
      "Requirement already satisfied: numpy in /Library/Frameworks/Python.framework/Versions/3.8/lib/python3.8/site-packages (from xgboost) (1.23.5)\n",
      "Requirement already satisfied: scipy in /Library/Frameworks/Python.framework/Versions/3.8/lib/python3.8/site-packages (from xgboost) (1.9.3)\n"
     ]
    },
    {
     "ename": "ModuleNotFoundError",
     "evalue": "No module named 'optuna'",
     "output_type": "error",
     "traceback": [
      "\u001b[0;31m---------------------------------------------------------------------------\u001b[0m",
      "\u001b[0;31mModuleNotFoundError\u001b[0m                       Traceback (most recent call last)",
      "\u001b[1;32m/Users/titouan/Desktop/DatathonBCGX/xgboost.ipynb Cellule 1\u001b[0m line \u001b[0;36m1\n\u001b[1;32m      <a href='vscode-notebook-cell:/Users/titouan/Desktop/DatathonBCGX/xgboost.ipynb#W1sZmlsZQ%3D%3D?line=7'>8</a>\u001b[0m \u001b[39mimport\u001b[39;00m \u001b[39mxgboost\u001b[39;00m \u001b[39mas\u001b[39;00m \u001b[39mxgb\u001b[39;00m\n\u001b[1;32m      <a href='vscode-notebook-cell:/Users/titouan/Desktop/DatathonBCGX/xgboost.ipynb#W1sZmlsZQ%3D%3D?line=8'>9</a>\u001b[0m \u001b[39mimport\u001b[39;00m \u001b[39mnumpy\u001b[39;00m \u001b[39mas\u001b[39;00m \u001b[39mnp\u001b[39;00m\n\u001b[0;32m---> <a href='vscode-notebook-cell:/Users/titouan/Desktop/DatathonBCGX/xgboost.ipynb#W1sZmlsZQ%3D%3D?line=9'>10</a>\u001b[0m \u001b[39mimport\u001b[39;00m \u001b[39moptuna\u001b[39;00m\n\u001b[1;32m     <a href='vscode-notebook-cell:/Users/titouan/Desktop/DatathonBCGX/xgboost.ipynb#W1sZmlsZQ%3D%3D?line=10'>11</a>\u001b[0m \u001b[39mimport\u001b[39;00m \u001b[39mmath\u001b[39;00m\n\u001b[1;32m     <a href='vscode-notebook-cell:/Users/titouan/Desktop/DatathonBCGX/xgboost.ipynb#W1sZmlsZQ%3D%3D?line=11'>12</a>\u001b[0m \u001b[39mimport\u001b[39;00m \u001b[39mpandas\u001b[39;00m \u001b[39mas\u001b[39;00m \u001b[39mpd\u001b[39;00m\n",
      "\u001b[0;31mModuleNotFoundError\u001b[0m: No module named 'optuna'"
     ]
    }
   ],
   "source": [
    "# Installs\n",
    "!pip install polars\n",
    "!pip install lets-plot\n",
    "!pip install xgboost\n",
    "\n",
    "# Imports\n",
    "import polars as pl\n",
    "import xgboost as xgb\n",
    "import numpy as np\n",
    "import optuna\n",
    "import math\n",
    "import pandas as pd\n",
    "import statistics as stat\n",
    "\n",
    "from lets_plot import *\n",
    "from lets_plot.mapping import as_discrete\n",
    "from sklearn import model_selection\n",
    "from sklearn.metrics import mean_squared_error\n",
    "from sklearn.linear_model import LinearRegression\n",
    "import plotly\n",
    "import plotly.figure_factory as ff\n",
    "\n",
    "LetsPlot.setup_html()\n",
    "plotly.offline.init_notebook_mode(connected = True)"
   ]
  },
  {
   "cell_type": "code",
   "execution_count": null,
   "metadata": {},
   "outputs": [],
   "source": [
    "# Split into training and validation sets\n",
    "df_train = df_train.filter(pl.col(\"DateTime\") < pl.datetime(2017, 6, 1))\n",
    "df_valid = df_train.filter(pl.col(\"DateTime\") >= pl.datetime(2017, 6, 1))"
   ]
  },
  {
   "cell_type": "code",
   "execution_count": null,
   "metadata": {},
   "outputs": [],
   "source": [
    "\n",
    "df_train=pd.read_csv(\"Train.csv\")\n",
    "\n",
    "df_train=df_train.drop(columns='Unnamed: 0')\n",
    "df_train_modified=df_train[['year','id arc', 'id noeud amont',\n",
    "       'id noeud aval', 'etat trafic', 'etat arc', 'Temp', 'Pluie 1h',\n",
    "       'Pluie 3h', 'Neige', 'Visibilité Horiz', 'cos_hour', 'sin_hour',\n",
    "       'cos_day', 'sin_day', 'cos_month', 'sin_month', 'débit horaire',\n",
    "       'taux occupation']]"
   ]
  },
  {
   "cell_type": "code",
   "execution_count": null,
   "metadata": {},
   "outputs": [],
   "source": [
    "# Suppress optuna log messages\n",
    "optuna.logging.set_verbosity(optuna.logging.WARNING) \n",
    "\n",
    "# Optuna objective function\n",
    "def objective_xgb(trial):\n",
    "    \"\"\"\n",
    "    Optuna objective function. Returns\n",
    "    the RMSE for an XGBoost model\n",
    "    \n",
    "    Assumes the training data are \n",
    "    polars data frames\n",
    "    \"\"\"\n",
    "    # Get data for the XGBoost model\n",
    "    xtrain = df_train.drop([\"DateTime\", \"Junction\", \"Vehicles\"]).to_numpy()\n",
    "    xvalid = df_valid.drop([\"DateTime\", \"Junction\", \"Vehicles\"]).to_numpy()\n",
    "\n",
    "    ytrain = df_train.get_column(\"Vehicles\").to_numpy()\n",
    "    yvalid = df_valid.get_column(\"Vehicles\").to_numpy()\n",
    "    \n",
    "    dmat_train = xgb.DMatrix(xtrain, label = ytrain)\n",
    "    dmat_valid = xgb.DMatrix(xvalid, label = yvalid)\n",
    "    \n",
    "    # Suggest hyperparameters for XGBoost\n",
    "    params = {'objective': 'reg:squarederror',\n",
    "              'eval_metric': 'rmse',\n",
    "              'seed': 19970507,\n",
    "              'eta': trial.suggest_float(\"eta\", 1e-2, 0.25, log = True),\n",
    "              'max_depth': trial.suggest_int(\"max_depth\", 1, 7),\n",
    "              'lambda': trial.suggest_float(\"lambda\", 1e-8, 100.0, log = True),\n",
    "              'alpha': trial.suggest_float(\"alpha\", 1e-8, 100.0, log = True),\n",
    "             }\n",
    "    \n",
    "    # To evaluate training progress (set verbose_eval = True)\n",
    "    watchlist = [(dmat_train, 'train'), (dmat_valid, 'eval')]\n",
    "    \n",
    "    # Train the XGBoost model\n",
    "    xgb_model = xgb.train(params, \n",
    "                          dtrain = dmat_train, \n",
    "                          num_boost_round = trial.suggest_int(\"num_boost_round\", 20, 3000),\n",
    "                          evals = watchlist,\n",
    "                          verbose_eval = False)\n",
    "    \n",
    "    xgb_preds_valid = xgb_model.predict(dmat_valid) \n",
    "    \n",
    "    # Return the RMSE\n",
    "    return math.sqrt(mean_squared_error(yvalid, xgb_preds_valid))\n",
    "\n",
    "\n",
    "# Set up and run the Optuna study\n",
    "study_xgb = optuna.create_study(direction = 'minimize')\n",
    "study_xgb.optimize(objective_xgb, n_trials = 10)\n",
    "\n",
    "# Create a table showing the best parameters\n",
    "xgb_table = [[\"Parameter\", \"Optimal Value from Optuna\"],\n",
    "            [\"Iterations (num_boost_rounds)\", study_xgb.best_params['num_boost_round']],\n",
    "            ['Learning Rate (eta)', round(study_xgb.best_params['eta'], 3)],\n",
    "            ['Max Depth (max_depth)', round(study_xgb.best_params['max_depth'], 3)],\n",
    "            ['Lambda (lambda)', round(study_xgb.best_params['lambda'], 3)],\n",
    "            ['Alpha (alpha)', round(study_xgb.best_params['alpha'], 3)]]\n",
    "\n",
    "ff.create_table(xgb_table)"
   ]
  }
 ],
 "metadata": {
  "kernelspec": {
   "display_name": "Python 3",
   "language": "python",
   "name": "python3"
  },
  "language_info": {
   "codemirror_mode": {
    "name": "ipython",
    "version": 3
   },
   "file_extension": ".py",
   "mimetype": "text/x-python",
   "name": "python",
   "nbconvert_exporter": "python",
   "pygments_lexer": "ipython3",
   "version": "3.8.7rc1"
  }
 },
 "nbformat": 4,
 "nbformat_minor": 2
}
